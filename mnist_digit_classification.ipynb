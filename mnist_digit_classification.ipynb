{
 "cells": [
  {
   "cell_type": "code",
   "execution_count": 1,
   "id": "a0f87f0e",
   "metadata": {
    "_cell_guid": "b1076dfc-b9ad-4769-8c92-a6c4dae69d19",
    "_uuid": "8f2839f25d086af736a60e9eeb907d3b93b6e0e5",
    "execution": {
     "iopub.execute_input": "2024-11-19T03:51:50.480977Z",
     "iopub.status.busy": "2024-11-19T03:51:50.480559Z",
     "iopub.status.idle": "2024-11-19T03:51:51.453248Z",
     "shell.execute_reply": "2024-11-19T03:51:51.452019Z"
    },
    "papermill": {
     "duration": 0.988878,
     "end_time": "2024-11-19T03:51:51.455543",
     "exception": false,
     "start_time": "2024-11-19T03:51:50.466665",
     "status": "completed"
    },
    "tags": []
   },
   "outputs": [
    {
     "name": "stdout",
     "output_type": "stream",
     "text": [
      "/kaggle/input/digit-recognizer/sample_submission.csv\n",
      "/kaggle/input/digit-recognizer/train.csv\n",
      "/kaggle/input/digit-recognizer/test.csv\n"
     ]
    }
   ],
   "source": [
    "# This Python 3 environment comes with many helpful analytics libraries installed\n",
    "# It is defined by the kaggle/python Docker image: https://github.com/kaggle/docker-python\n",
    "# For example, here's several helpful packages to load\n",
    "\n",
    "import numpy as np # linear algebra\n",
    "import pandas as pd # data processing, CSV file I/O (e.g. pd.read_csv)\n",
    "\n",
    "# Input data files are available in the read-only \"../input/\" directory\n",
    "# For example, running this (by clicking run or pressing Shift+Enter) will list all files under the input directory\n",
    "\n",
    "import os\n",
    "for dirname, _, filenames in os.walk('/kaggle/input'):\n",
    "    for filename in filenames:\n",
    "        print(os.path.join(dirname, filename))\n",
    "\n",
    "# You can write up to 20GB to the current directory (/kaggle/working/) that gets preserved as output when you create a version using \"Save & Run All\" \n",
    "# You can also write temporary files to /kaggle/temp/, but they won't be saved outside of the current session"
   ]
  },
  {
   "cell_type": "markdown",
   "id": "69b23b71",
   "metadata": {
    "papermill": {
     "duration": 0.005135,
     "end_time": "2024-11-19T03:51:51.466550",
     "exception": false,
     "start_time": "2024-11-19T03:51:51.461415",
     "status": "completed"
    },
    "tags": []
   },
   "source": [
    "# Task 0: Introduction\n",
    "\n",
    "The MNIST dataset is a benchmark dataset in machine learning and computer vision, consisting of 70,000 grayscale images of handwritten digits (0–9), each of size 28x28 pixels. The task is to classify each image into its corresponding digit, making it a multi-class classification problem. This challenge serves as an excellent introduction to deep learning, enabling the application of neural networks to solve real-world problems.\n",
    "\n",
    "In this notebook, we will build a neural network using PyTorch to classify the MNIST digits. The solution involves loading and preprocessing the data, designing and training a deep learning model, evaluating its performance, and generating predictions for submission to Kaggle. This structured approach ensures reproducible results and facilitates understanding of fundamental deep learning concepts."
   ]
  },
  {
   "cell_type": "markdown",
   "id": "e4cff20e",
   "metadata": {
    "papermill": {
     "duration": 0.005181,
     "end_time": "2024-11-19T03:51:51.477192",
     "exception": false,
     "start_time": "2024-11-19T03:51:51.472011",
     "status": "completed"
    },
    "tags": []
   },
   "source": [
    "# Task 1: Importing Libraries"
   ]
  },
  {
   "cell_type": "code",
   "execution_count": 2,
   "id": "843e78b0",
   "metadata": {
    "execution": {
     "iopub.execute_input": "2024-11-19T03:51:51.490407Z",
     "iopub.status.busy": "2024-11-19T03:51:51.489673Z",
     "iopub.status.idle": "2024-11-19T03:51:56.425525Z",
     "shell.execute_reply": "2024-11-19T03:51:56.424522Z"
    },
    "papermill": {
     "duration": 4.945604,
     "end_time": "2024-11-19T03:51:56.428157",
     "exception": false,
     "start_time": "2024-11-19T03:51:51.482553",
     "status": "completed"
    },
    "tags": []
   },
   "outputs": [],
   "source": [
    "# Importing Necessary Libraries\n",
    "import numpy as np\n",
    "import pandas as pd\n",
    "import matplotlib.pyplot as plt\n",
    "from sklearn.model_selection import train_test_split\n",
    "import torch\n",
    "from torch.utils.data import DataLoader, Dataset\n",
    "from torch import nn, optim"
   ]
  },
  {
   "cell_type": "markdown",
   "id": "68020150",
   "metadata": {
    "papermill": {
     "duration": 0.00516,
     "end_time": "2024-11-19T03:51:56.439124",
     "exception": false,
     "start_time": "2024-11-19T03:51:56.433964",
     "status": "completed"
    },
    "tags": []
   },
   "source": [
    "# Task 2: Loading the Dataset"
   ]
  },
  {
   "cell_type": "code",
   "execution_count": 3,
   "id": "b21f5884",
   "metadata": {
    "execution": {
     "iopub.execute_input": "2024-11-19T03:51:56.453041Z",
     "iopub.status.busy": "2024-11-19T03:51:56.452471Z",
     "iopub.status.idle": "2024-11-19T03:51:59.808310Z",
     "shell.execute_reply": "2024-11-19T03:51:59.807068Z"
    },
    "papermill": {
     "duration": 3.366159,
     "end_time": "2024-11-19T03:51:59.810687",
     "exception": false,
     "start_time": "2024-11-19T03:51:56.444528",
     "status": "completed"
    },
    "tags": []
   },
   "outputs": [],
   "source": [
    "# Load the MNIST Dataset\n",
    "train_data_path = \"/kaggle/input/digit-recognizer/train.csv\"\n",
    "test_data_path = \"/kaggle/input/digit-recognizer/test.csv\"\n",
    "\n",
    "# Load Training Data\n",
    "train_df = pd.read_csv(train_data_path)"
   ]
  },
  {
   "cell_type": "markdown",
   "id": "6a2b50c9",
   "metadata": {
    "papermill": {
     "duration": 0.005118,
     "end_time": "2024-11-19T03:51:59.821408",
     "exception": false,
     "start_time": "2024-11-19T03:51:59.816290",
     "status": "completed"
    },
    "tags": []
   },
   "source": [
    "# Task 3: Exploratory Data Analysis (EDA)"
   ]
  },
  {
   "cell_type": "code",
   "execution_count": 4,
   "id": "03e87b17",
   "metadata": {
    "execution": {
     "iopub.execute_input": "2024-11-19T03:51:59.834382Z",
     "iopub.status.busy": "2024-11-19T03:51:59.834024Z",
     "iopub.status.idle": "2024-11-19T03:52:01.946725Z",
     "shell.execute_reply": "2024-11-19T03:52:01.945553Z"
    },
    "papermill": {
     "duration": 2.122407,
     "end_time": "2024-11-19T03:52:01.949655",
     "exception": false,
     "start_time": "2024-11-19T03:51:59.827248",
     "status": "completed"
    },
    "tags": []
   },
   "outputs": [
    {
     "name": "stdout",
     "output_type": "stream",
     "text": [
      "              label   pixel0   pixel1   pixel2   pixel3   pixel4   pixel5  \\\n",
      "count  42000.000000  42000.0  42000.0  42000.0  42000.0  42000.0  42000.0   \n",
      "mean       4.456643      0.0      0.0      0.0      0.0      0.0      0.0   \n",
      "std        2.887730      0.0      0.0      0.0      0.0      0.0      0.0   \n",
      "min        0.000000      0.0      0.0      0.0      0.0      0.0      0.0   \n",
      "25%        2.000000      0.0      0.0      0.0      0.0      0.0      0.0   \n",
      "50%        4.000000      0.0      0.0      0.0      0.0      0.0      0.0   \n",
      "75%        7.000000      0.0      0.0      0.0      0.0      0.0      0.0   \n",
      "max        9.000000      0.0      0.0      0.0      0.0      0.0      0.0   \n",
      "\n",
      "        pixel6   pixel7   pixel8  ...      pixel774      pixel775  \\\n",
      "count  42000.0  42000.0  42000.0  ...  42000.000000  42000.000000   \n",
      "mean       0.0      0.0      0.0  ...      0.219286      0.117095   \n",
      "std        0.0      0.0      0.0  ...      6.312890      4.633819   \n",
      "min        0.0      0.0      0.0  ...      0.000000      0.000000   \n",
      "25%        0.0      0.0      0.0  ...      0.000000      0.000000   \n",
      "50%        0.0      0.0      0.0  ...      0.000000      0.000000   \n",
      "75%        0.0      0.0      0.0  ...      0.000000      0.000000   \n",
      "max        0.0      0.0      0.0  ...    254.000000    254.000000   \n",
      "\n",
      "           pixel776     pixel777      pixel778      pixel779  pixel780  \\\n",
      "count  42000.000000  42000.00000  42000.000000  42000.000000   42000.0   \n",
      "mean       0.059024      0.02019      0.017238      0.002857       0.0   \n",
      "std        3.274488      1.75987      1.894498      0.414264       0.0   \n",
      "min        0.000000      0.00000      0.000000      0.000000       0.0   \n",
      "25%        0.000000      0.00000      0.000000      0.000000       0.0   \n",
      "50%        0.000000      0.00000      0.000000      0.000000       0.0   \n",
      "75%        0.000000      0.00000      0.000000      0.000000       0.0   \n",
      "max      253.000000    253.00000    254.000000     62.000000       0.0   \n",
      "\n",
      "       pixel781  pixel782  pixel783  \n",
      "count   42000.0   42000.0   42000.0  \n",
      "mean        0.0       0.0       0.0  \n",
      "std         0.0       0.0       0.0  \n",
      "min         0.0       0.0       0.0  \n",
      "25%         0.0       0.0       0.0  \n",
      "50%         0.0       0.0       0.0  \n",
      "75%         0.0       0.0       0.0  \n",
      "max         0.0       0.0       0.0  \n",
      "\n",
      "[8 rows x 785 columns]\n"
     ]
    }
   ],
   "source": [
    "# Exploratory Data Analysis\n",
    "# Display some basic statistics\n",
    "print(train_df.describe())"
   ]
  },
  {
   "cell_type": "code",
   "execution_count": 5,
   "id": "78657ca1",
   "metadata": {
    "execution": {
     "iopub.execute_input": "2024-11-19T03:52:01.963882Z",
     "iopub.status.busy": "2024-11-19T03:52:01.963418Z",
     "iopub.status.idle": "2024-11-19T03:52:02.360305Z",
     "shell.execute_reply": "2024-11-19T03:52:02.359103Z"
    },
    "papermill": {
     "duration": 0.406824,
     "end_time": "2024-11-19T03:52:02.362577",
     "exception": false,
     "start_time": "2024-11-19T03:52:01.955753",
     "status": "completed"
    },
    "tags": []
   },
   "outputs": [
    {
     "data": {
      "image/png": "[encoded data removed]",
      "text/plain": [
       "<Figure size 1500x400 with 6 Axes>"
      ]
     },
     "metadata": {},
     "output_type": "display_data"
    }
   ],
   "source": [
    "# Visualize a few samples from the dataset\n",
    "def visualize_samples(dataframe, num_samples=6):\n",
    "    \"\"\"Visualizes random samples from the dataset.\"\"\"\n",
    "    samples = dataframe.sample(num_samples)\n",
    "    fig, axes = plt.subplots(1, num_samples, figsize=(15, 4))\n",
    "    for i, (idx, row) in enumerate(samples.iterrows()):\n",
    "        label = row['label']\n",
    "        image = row.drop('label').values.reshape(28, 28)\n",
    "        axes[i].imshow(image, cmap='gray')\n",
    "        axes[i].axis('off')\n",
    "        axes[i].set_title(f\"Label: {label}\")\n",
    "    plt.show()\n",
    "\n",
    "visualize_samples(train_df)"
   ]
  },
  {
   "cell_type": "markdown",
   "id": "03202c96",
   "metadata": {
    "papermill": {
     "duration": 0.005574,
     "end_time": "2024-11-19T03:52:02.374267",
     "exception": false,
     "start_time": "2024-11-19T03:52:02.368693",
     "status": "completed"
    },
    "tags": []
   },
   "source": [
    "# Task 4: Data Preprocessing"
   ]
  },
  {
   "cell_type": "code",
   "execution_count": 6,
   "id": "ff236ebd",
   "metadata": {
    "execution": {
     "iopub.execute_input": "2024-11-19T03:52:02.387685Z",
     "iopub.status.busy": "2024-11-19T03:52:02.387287Z",
     "iopub.status.idle": "2024-11-19T03:52:02.394513Z",
     "shell.execute_reply": "2024-11-19T03:52:02.393359Z"
    },
    "papermill": {
     "duration": 0.016882,
     "end_time": "2024-11-19T03:52:02.396977",
     "exception": false,
     "start_time": "2024-11-19T03:52:02.380095",
     "status": "completed"
    },
    "tags": []
   },
   "outputs": [],
   "source": [
    "# Data Preprocessing with a Custom Dataset Class\n",
    "class MNISTDataset(Dataset):\n",
    "    def __init__(self, dataframe: pd.DataFrame):\n",
    "        self.labels = dataframe['label'].values\n",
    "        self.images = dataframe.drop(columns=['label']).values.astype(np.float32) / 255.0\n",
    "\n",
    "    def __len__(self):\n",
    "        return len(self.labels)\n",
    "\n",
    "    def __getitem__(self, idx):\n",
    "        image = self.images[idx].reshape(28, 28)\n",
    "        label = self.labels[idx]\n",
    "        return torch.tensor(image, dtype=torch.float32), torch.tensor(label, dtype=torch.long)"
   ]
  },
  {
   "cell_type": "markdown",
   "id": "49d5a53c",
   "metadata": {
    "papermill": {
     "duration": 0.005493,
     "end_time": "2024-11-19T03:52:02.408459",
     "exception": false,
     "start_time": "2024-11-19T03:52:02.402966",
     "status": "completed"
    },
    "tags": []
   },
   "source": [
    "# Task 5: Splitting Data into Training and Validation Sets"
   ]
  },
  {
   "cell_type": "code",
   "execution_count": 7,
   "id": "32354142",
   "metadata": {
    "execution": {
     "iopub.execute_input": "2024-11-19T03:52:02.421912Z",
     "iopub.status.busy": "2024-11-19T03:52:02.421432Z",
     "iopub.status.idle": "2024-11-19T03:52:02.846122Z",
     "shell.execute_reply": "2024-11-19T03:52:02.844860Z"
    },
    "papermill": {
     "duration": 0.434397,
     "end_time": "2024-11-19T03:52:02.848655",
     "exception": false,
     "start_time": "2024-11-19T03:52:02.414258",
     "status": "completed"
    },
    "tags": []
   },
   "outputs": [],
   "source": [
    "# Train-Validation Split\n",
    "train_set, val_set = train_test_split(train_df, test_size=0.2, random_state=42)\n",
    "train_dataset = MNISTDataset(train_set)\n",
    "val_dataset = MNISTDataset(val_set)"
   ]
  },
  {
   "cell_type": "code",
   "execution_count": 8,
   "id": "d5fa9ea1",
   "metadata": {
    "execution": {
     "iopub.execute_input": "2024-11-19T03:52:02.862064Z",
     "iopub.status.busy": "2024-11-19T03:52:02.861660Z",
     "iopub.status.idle": "2024-11-19T03:52:02.867152Z",
     "shell.execute_reply": "2024-11-19T03:52:02.866125Z"
    },
    "papermill": {
     "duration": 0.014665,
     "end_time": "2024-11-19T03:52:02.869274",
     "exception": false,
     "start_time": "2024-11-19T03:52:02.854609",
     "status": "completed"
    },
    "tags": []
   },
   "outputs": [],
   "source": [
    "# Create DataLoaders\n",
    "train_loader = DataLoader(train_dataset, batch_size=64, shuffle=True)\n",
    "val_loader = DataLoader(val_dataset, batch_size=64, shuffle=False)"
   ]
  },
  {
   "cell_type": "markdown",
   "id": "0033fab3",
   "metadata": {
    "papermill": {
     "duration": 0.005678,
     "end_time": "2024-11-19T03:52:02.880865",
     "exception": false,
     "start_time": "2024-11-19T03:52:02.875187",
     "status": "completed"
    },
    "tags": []
   },
   "source": [
    "# Task 6: Building the Neural Network Model"
   ]
  },
  {
   "cell_type": "code",
   "execution_count": 9,
   "id": "1f904135",
   "metadata": {
    "execution": {
     "iopub.execute_input": "2024-11-19T03:52:02.894529Z",
     "iopub.status.busy": "2024-11-19T03:52:02.893702Z",
     "iopub.status.idle": "2024-11-19T03:52:04.569029Z",
     "shell.execute_reply": "2024-11-19T03:52:04.568044Z"
    },
    "papermill": {
     "duration": 1.684877,
     "end_time": "2024-11-19T03:52:04.571489",
     "exception": false,
     "start_time": "2024-11-19T03:52:02.886612",
     "status": "completed"
    },
    "tags": []
   },
   "outputs": [],
   "source": [
    "# Define the Neural Network Model\n",
    "input_layer = 784\n",
    "hidden_layer1 = 128\n",
    "hidden_layer2 = 64\n",
    "output_layer = 10\n",
    "\n",
    "model = nn.Sequential(\n",
    "    nn.Linear(input_layer, hidden_layer1),\n",
    "    nn.ReLU(),\n",
    "    nn.Linear(hidden_layer1, hidden_layer2),\n",
    "    nn.ReLU(),\n",
    "    nn.Linear(hidden_layer2, output_layer)\n",
    ")\n",
    "\n",
    "# Loss Function and Optimizer\n",
    "loss_function = nn.CrossEntropyLoss()\n",
    "optimizer = optim.Adam(model.parameters(), lr=0.001)"
   ]
  },
  {
   "cell_type": "markdown",
   "id": "fc8acea8",
   "metadata": {
    "papermill": {
     "duration": 0.005773,
     "end_time": "2024-11-19T03:52:04.583280",
     "exception": false,
     "start_time": "2024-11-19T03:52:04.577507",
     "status": "completed"
    },
    "tags": []
   },
   "source": [
    "# Task 7: Training the Model"
   ]
  },
  {
   "cell_type": "code",
   "execution_count": 10,
   "id": "55e1910f",
   "metadata": {
    "execution": {
     "iopub.execute_input": "2024-11-19T03:52:04.596840Z",
     "iopub.status.busy": "2024-11-19T03:52:04.596236Z",
     "iopub.status.idle": "2024-11-19T03:52:04.606227Z",
     "shell.execute_reply": "2024-11-19T03:52:04.604874Z"
    },
    "papermill": {
     "duration": 0.019796,
     "end_time": "2024-11-19T03:52:04.608984",
     "exception": false,
     "start_time": "2024-11-19T03:52:04.589188",
     "status": "completed"
    },
    "tags": []
   },
   "outputs": [],
   "source": [
    "# Training the Model\n",
    "def train_model(model, train_loader, val_loader, epochs=10):\n",
    "    \"\"\"Trains the neural network and evaluates it on validation data.\"\"\"\n",
    "    for epoch in range(epochs):\n",
    "        model.train()\n",
    "        total_loss = 0\n",
    "        for images, labels in train_loader:\n",
    "            images = images.view(images.size(0), -1)\n",
    "            optimizer.zero_grad()\n",
    "            predictions = model(images)\n",
    "            loss = loss_function(predictions, labels)\n",
    "            loss.backward()\n",
    "            optimizer.step()\n",
    "            total_loss += loss.item()\n",
    "        \n",
    "        # Validation Step\n",
    "        model.eval()\n",
    "        val_loss = 0\n",
    "        correct = 0\n",
    "        with torch.no_grad():\n",
    "            for images, labels in val_loader:\n",
    "                images = images.view(images.size(0), -1)\n",
    "                predictions = model(images)\n",
    "                val_loss += loss_function(predictions, labels).item()\n",
    "                correct += (predictions.argmax(1) == labels).sum().item()\n",
    "        \n",
    "        # Print Epoch Metrics\n",
    "        print(f\"Epoch {epoch+1}/{epochs}\")\n",
    "        print(f\"Train Loss: {total_loss/len(train_loader):.4f}\")\n",
    "        print(f\"Validation Loss: {val_loss/len(val_loader):.4f}\")\n",
    "        print(f\"Validation Accuracy: {100 * correct / len(val_dataset):.2f}%\")\n",
    "        print(\"-\" * 30)"
   ]
  },
  {
   "cell_type": "code",
   "execution_count": 11,
   "id": "4f3d46c9",
   "metadata": {
    "execution": {
     "iopub.execute_input": "2024-11-19T03:52:04.622913Z",
     "iopub.status.busy": "2024-11-19T03:52:04.622420Z",
     "iopub.status.idle": "2024-11-19T03:52:31.372282Z",
     "shell.execute_reply": "2024-11-19T03:52:31.371126Z"
    },
    "papermill": {
     "duration": 26.759592,
     "end_time": "2024-11-19T03:52:31.374695",
     "exception": false,
     "start_time": "2024-11-19T03:52:04.615103",
     "status": "completed"
    },
    "tags": []
   },
   "outputs": [
    {
     "name": "stdout",
     "output_type": "stream",
     "text": [
      "Epoch 1/10\n",
      "Train Loss: 0.4294\n",
      "Validation Loss: 0.2245\n",
      "Validation Accuracy: 93.73%\n",
      "------------------------------\n",
      "Epoch 2/10\n",
      "Train Loss: 0.1863\n",
      "Validation Loss: 0.1626\n",
      "Validation Accuracy: 95.23%\n",
      "------------------------------\n",
      "Epoch 3/10\n",
      "Train Loss: 0.1338\n",
      "Validation Loss: 0.1365\n",
      "Validation Accuracy: 95.83%\n",
      "------------------------------\n",
      "Epoch 4/10\n",
      "Train Loss: 0.0993\n",
      "Validation Loss: 0.1475\n",
      "Validation Accuracy: 95.54%\n",
      "------------------------------\n",
      "Epoch 5/10\n",
      "Train Loss: 0.0795\n",
      "Validation Loss: 0.1240\n",
      "Validation Accuracy: 96.40%\n",
      "------------------------------\n",
      "Epoch 6/10\n",
      "Train Loss: 0.0609\n",
      "Validation Loss: 0.1046\n",
      "Validation Accuracy: 96.87%\n",
      "------------------------------\n",
      "Epoch 7/10\n",
      "Train Loss: 0.0490\n",
      "Validation Loss: 0.1092\n",
      "Validation Accuracy: 96.86%\n",
      "------------------------------\n",
      "Epoch 8/10\n",
      "Train Loss: 0.0413\n",
      "Validation Loss: 0.1027\n",
      "Validation Accuracy: 97.01%\n",
      "------------------------------\n",
      "Epoch 9/10\n",
      "Train Loss: 0.0323\n",
      "Validation Loss: 0.1236\n",
      "Validation Accuracy: 96.46%\n",
      "------------------------------\n",
      "Epoch 10/10\n",
      "Train Loss: 0.0277\n",
      "Validation Loss: 0.1113\n",
      "Validation Accuracy: 96.76%\n",
      "------------------------------\n"
     ]
    }
   ],
   "source": [
    "train_model(model, train_loader, val_loader)"
   ]
  },
  {
   "cell_type": "markdown",
   "id": "050f780b",
   "metadata": {
    "papermill": {
     "duration": 0.006091,
     "end_time": "2024-11-19T03:52:31.387467",
     "exception": false,
     "start_time": "2024-11-19T03:52:31.381376",
     "status": "completed"
    },
    "tags": []
   },
   "source": [
    "# Task 8: Preprocessing Test Data"
   ]
  },
  {
   "cell_type": "code",
   "execution_count": 12,
   "id": "c0db5ce0",
   "metadata": {
    "execution": {
     "iopub.execute_input": "2024-11-19T03:52:31.402166Z",
     "iopub.status.busy": "2024-11-19T03:52:31.401789Z",
     "iopub.status.idle": "2024-11-19T03:52:33.219553Z",
     "shell.execute_reply": "2024-11-19T03:52:33.218415Z"
    },
    "papermill": {
     "duration": 1.828397,
     "end_time": "2024-11-19T03:52:33.222240",
     "exception": false,
     "start_time": "2024-11-19T03:52:31.393843",
     "status": "completed"
    },
    "tags": []
   },
   "outputs": [],
   "source": [
    "# Evaluate on Test Data\n",
    "test_df = pd.read_csv(test_data_path)"
   ]
  },
  {
   "cell_type": "code",
   "execution_count": 13,
   "id": "cd8e33eb",
   "metadata": {
    "execution": {
     "iopub.execute_input": "2024-11-19T03:52:33.236850Z",
     "iopub.status.busy": "2024-11-19T03:52:33.236411Z",
     "iopub.status.idle": "2024-11-19T03:52:33.243175Z",
     "shell.execute_reply": "2024-11-19T03:52:33.242057Z"
    },
    "papermill": {
     "duration": 0.016495,
     "end_time": "2024-11-19T03:52:33.245290",
     "exception": false,
     "start_time": "2024-11-19T03:52:33.228795",
     "status": "completed"
    },
    "tags": []
   },
   "outputs": [],
   "source": [
    "# Prepare Test Dataset\n",
    "class MNISTTestDataset(Dataset):\n",
    "    def __init__(self, dataframe: pd.DataFrame):\n",
    "        self.images = dataframe.values.astype(np.float32) / 255.0\n",
    "\n",
    "    def __len__(self):\n",
    "        return len(self.images)\n",
    "\n",
    "    def __getitem__(self, idx):\n",
    "        image = self.images[idx].reshape(28, 28)\n",
    "        return torch.tensor(image, dtype=torch.float32)"
   ]
  },
  {
   "cell_type": "code",
   "execution_count": 14,
   "id": "903a8fba",
   "metadata": {
    "execution": {
     "iopub.execute_input": "2024-11-19T03:52:33.259745Z",
     "iopub.status.busy": "2024-11-19T03:52:33.259353Z",
     "iopub.status.idle": "2024-11-19T03:52:33.323536Z",
     "shell.execute_reply": "2024-11-19T03:52:33.322562Z"
    },
    "papermill": {
     "duration": 0.074287,
     "end_time": "2024-11-19T03:52:33.326087",
     "exception": false,
     "start_time": "2024-11-19T03:52:33.251800",
     "status": "completed"
    },
    "tags": []
   },
   "outputs": [],
   "source": [
    "test_dataset = MNISTTestDataset(test_df)\n",
    "test_loader = DataLoader(test_dataset, batch_size=64, shuffle=False)"
   ]
  },
  {
   "cell_type": "markdown",
   "id": "ce6ac04d",
   "metadata": {
    "papermill": {
     "duration": 0.00601,
     "end_time": "2024-11-19T03:52:33.338454",
     "exception": false,
     "start_time": "2024-11-19T03:52:33.332444",
     "status": "completed"
    },
    "tags": []
   },
   "source": [
    "# Task 9: Making Predictions"
   ]
  },
  {
   "cell_type": "code",
   "execution_count": 15,
   "id": "179dfa61",
   "metadata": {
    "execution": {
     "iopub.execute_input": "2024-11-19T03:52:33.353010Z",
     "iopub.status.busy": "2024-11-19T03:52:33.352241Z",
     "iopub.status.idle": "2024-11-19T03:52:33.358229Z",
     "shell.execute_reply": "2024-11-19T03:52:33.357196Z"
    },
    "papermill": {
     "duration": 0.015759,
     "end_time": "2024-11-19T03:52:33.360428",
     "exception": false,
     "start_time": "2024-11-19T03:52:33.344669",
     "status": "completed"
    },
    "tags": []
   },
   "outputs": [],
   "source": [
    "# Make Predictions\n",
    "def make_predictions(model, test_loader):\n",
    "    \"\"\"Predicts labels for the test dataset.\"\"\"\n",
    "    model.eval()\n",
    "    predictions = []\n",
    "    with torch.no_grad():\n",
    "        for images in test_loader:\n",
    "            images = images.view(images.size(0), -1)\n",
    "            outputs = model(images)\n",
    "            predicted_labels = outputs.argmax(1).tolist()\n",
    "            predictions.extend(predicted_labels)\n",
    "    return predictions"
   ]
  },
  {
   "cell_type": "code",
   "execution_count": 16,
   "id": "00bba08b",
   "metadata": {
    "execution": {
     "iopub.execute_input": "2024-11-19T03:52:33.374643Z",
     "iopub.status.busy": "2024-11-19T03:52:33.374239Z",
     "iopub.status.idle": "2024-11-19T03:52:33.958970Z",
     "shell.execute_reply": "2024-11-19T03:52:33.958000Z"
    },
    "papermill": {
     "duration": 0.594798,
     "end_time": "2024-11-19T03:52:33.961494",
     "exception": false,
     "start_time": "2024-11-19T03:52:33.366696",
     "status": "completed"
    },
    "tags": []
   },
   "outputs": [],
   "source": [
    "test_predictions = make_predictions(model, test_loader)"
   ]
  },
  {
   "cell_type": "markdown",
   "id": "bb204977",
   "metadata": {
    "papermill": {
     "duration": 0.006284,
     "end_time": "2024-11-19T03:52:33.974389",
     "exception": false,
     "start_time": "2024-11-19T03:52:33.968105",
     "status": "completed"
    },
    "tags": []
   },
   "source": [
    "# Task 10: Creating the Submission File"
   ]
  },
  {
   "cell_type": "code",
   "execution_count": 17,
   "id": "81d07b44",
   "metadata": {
    "execution": {
     "iopub.execute_input": "2024-11-19T03:52:33.988625Z",
     "iopub.status.busy": "2024-11-19T03:52:33.988219Z",
     "iopub.status.idle": "2024-11-19T03:52:34.023086Z",
     "shell.execute_reply": "2024-11-19T03:52:34.021850Z"
    },
    "papermill": {
     "duration": 0.04469,
     "end_time": "2024-11-19T03:52:34.025364",
     "exception": false,
     "start_time": "2024-11-19T03:52:33.980674",
     "status": "completed"
    },
    "tags": []
   },
   "outputs": [
    {
     "name": "stdout",
     "output_type": "stream",
     "text": [
      "Submission file created: submission.csv\n"
     ]
    }
   ],
   "source": [
    "# Save Results to Submission File\n",
    "submission = pd.DataFrame({\n",
    "    'ImageId': range(1, len(test_predictions) + 1),\n",
    "    'Label': test_predictions\n",
    "})\n",
    "submission.to_csv(\"submission.csv\", index=False)\n",
    "print(\"Submission file created: submission.csv\")"
   ]
  },
  {
   "cell_type": "code",
   "execution_count": null,
   "id": "10ab9d4d",
   "metadata": {
    "papermill": {
     "duration": 0.006446,
     "end_time": "2024-11-19T03:52:34.038859",
     "exception": false,
     "start_time": "2024-11-19T03:52:34.032413",
     "status": "completed"
    },
    "tags": []
   },
   "outputs": [],
   "source": []
  }
 ],
 "metadata": {
  "kaggle": {
   "accelerator": "none",
   "dataSources": [
    {
     "databundleVersionId": 861823,
     "sourceId": 3004,
     "sourceType": "competition"
    }
   ],
   "dockerImageVersionId": 30786,
   "isGpuEnabled": false,
   "isInternetEnabled": true,
   "language": "python",
   "sourceType": "notebook"
  },
  "kernelspec": {
   "display_name": "Python 3",
   "language": "python",
   "name": "python3"
  },
  "language_info": {
   "codemirror_mode": {
    "name": "ipython",
    "version": 3
   },
   "file_extension": ".py",
   "mimetype": "text/x-python",
   "name": "python",
   "nbconvert_exporter": "python",
   "pygments_lexer": "ipython3",
   "version": "3.10.14"
  },
  "papermill": {
   "default_parameters": {},
   "duration": 47.809883,
   "end_time": "2024-11-19T03:52:35.369707",
   "environment_variables": {},
   "exception": null,
   "input_path": "__notebook__.ipynb",
   "output_path": "__notebook__.ipynb",
   "parameters": {},
   "start_time": "2024-11-19T03:51:47.559824",
   "version": "2.6.0"
  }
 },
 "nbformat": 4,
 "nbformat_minor": 5
}
